{
 "cells": [
  {
   "cell_type": "code",
   "execution_count": 15,
   "metadata": {},
   "outputs": [],
   "source": [
    "import fitz  # PyMuPDF\n",
    "from sentence_transformers import SentenceTransformer, util\n",
    "import numpy as np\n",
    "from transformers import MarianMTModel, MarianTokenizer"
   ]
  },
  {
   "cell_type": "markdown",
   "metadata": {},
   "source": [
    "### Load Pdf and Convert to Text"
   ]
  },
  {
   "cell_type": "code",
   "execution_count": 16,
   "metadata": {},
   "outputs": [],
   "source": [
    "def load_pdf_text(file_path):\n",
    "    \"\"\"\n",
    "    Extracts text from a PDF file.\n",
    "    :param file_path: path to the PDF file\n",
    "    :return: extracted text as a single string\n",
    "    \"\"\"\n",
    "    text = \"\"\n",
    "    with fitz.open(file_path) as pdf:\n",
    "        for page_num in range(pdf.page_count):\n",
    "            page = pdf[page_num]\n",
    "            text += page.get_text()\n",
    "    return text\n",
    "\n",
    "# Load each PDF file\n",
    "pdf_files = [\"healthy_diet.pdf\", \"hiv_testing.pdf\", \"maternal_peripartum_infection.pdf\"]\n",
    "documents = [load_pdf_text(file) for file in pdf_files]"
   ]
  },
  {
   "cell_type": "markdown",
   "metadata": {},
   "source": [
    "### Document Embedding"
   ]
  },
  {
   "cell_type": "code",
   "execution_count": 17,
   "metadata": {},
   "outputs": [],
   "source": [
    "# Load SBERT Model and Embed Documents\n",
    "model = SentenceTransformer('all-MiniLM-L6-v2')\n",
    "document_embeddings = model.encode(documents, convert_to_tensor=True)"
   ]
  },
  {
   "cell_type": "markdown",
   "metadata": {},
   "source": [
    "### Translation Model (Optional)\n",
    "De to En, En to De"
   ]
  },
  {
   "cell_type": "code",
   "execution_count": 18,
   "metadata": {},
   "outputs": [
    {
     "name": "stderr",
     "output_type": "stream",
     "text": [
      "/Users/sumyea/Desktop/Job_Application/dianovai/.venv/lib/python3.12/site-packages/transformers/models/marian/tokenization_marian.py:175: UserWarning: Recommended: pip install sacremoses.\n",
      "  warnings.warn(\"Recommended: pip install sacremoses.\")\n"
     ]
    }
   ],
   "source": [
    "# Load translation models for German-to-English and English-to-German\n",
    "translator_ge_en = MarianMTModel.from_pretrained('Helsinki-NLP/opus-mt-de-en')\n",
    "translator_ge_en_tokenizer = MarianTokenizer.from_pretrained('Helsinki-NLP/opus-mt-de-en')\n",
    "translator_en_ge = MarianMTModel.from_pretrained('Helsinki-NLP/opus-mt-en-de')\n",
    "translator_en_ge_tokenizer = MarianTokenizer.from_pretrained('Helsinki-NLP/opus-mt-en-de')\n",
    "\n",
    "# Translation functions\n",
    "def translate_text(text, model, tokenizer):\n",
    "    inputs = tokenizer(text, return_tensors=\"pt\", padding=True)\n",
    "    outputs = model.generate(**inputs)\n",
    "    return tokenizer.decode(outputs[0], skip_special_tokens=True)\n"
   ]
  },
  {
   "cell_type": "markdown",
   "metadata": {},
   "source": [
    "### Retrieve Document"
   ]
  },
  {
   "cell_type": "code",
   "execution_count": 19,
   "metadata": {},
   "outputs": [
    {
     "name": "stdout",
     "output_type": "stream",
     "text": [
      "\n",
      "Retrieved Documents for Query: Was ist eine gesunde Ernährung?\n",
      "Document Index: 0\n",
      "Document Snippet: Fiskalpolitik zur Förderung gesunder Ernährung WHO-Leitlinie Fiskalpolitik zur Förderung gesunder Ernährung WHO-Leitlinie Fiskalpolitik zur Förderung gesunder Ernährung: WHO-Leitlinie ISBN 978-92-4-009101-6 (electr)\n",
      "Relevance Score: 0.4006\n",
      "\n",
      "Document Index: 1\n",
      "Document Snippet: Konsolidierte Leitlinien für differenzierte HIV-Testdienste Konsolidierte Leitlinien für differenzierte HIV-Testdienste Konsolidierte Leitlinien für differenzierte HIV-Testdienste ISBN 97\n",
      "Relevance Score: 0.0057\n",
      "\n",
      "Document Index: 2\n",
      "Document Snippet: WHO-Empfehlungen zur Prävention und Behandlung von mütterlichen Peripartuminfektionen WHO-Empfehlungen zur Prävention und Behandlung von mütterlichen Peripartuminfektionen WHO-Bibliothek Cataloguing-in-Pu\n",
      "Relevance Score: 0.0036\n",
      "\n"
     ]
    }
   ],
   "source": [
    "# Retrieval Function Using Cosine Similarity\n",
    "def retrieve_documents(query, document_embeddings, documents, model, top_n=3, lang=\"en\"):\n",
    "    \n",
    "    # If the query is in German, translate it to English\n",
    "    if lang == \"de\":\n",
    "        query = translate_text(query, translator_ge_en, translator_ge_en_tokenizer)\n",
    "    \n",
    "    # Encode the query\n",
    "    query_embedding = model.encode(query, convert_to_tensor=True)\n",
    "    cosine_scores = util.pytorch_cos_sim(query_embedding, document_embeddings).flatten()\n",
    "    ranked_indices = cosine_scores.argsort(descending=True).cpu().numpy()[:top_n]\n",
    "\n",
    "    # Retrieve top documents\n",
    "    results = []\n",
    "    for idx in ranked_indices:\n",
    "        text_snippet = documents[idx][:200]  # Limit to first 200 characters for display\n",
    "        relevance_score = cosine_scores[idx].item()\n",
    "        if lang == \"de\":\n",
    "            text_snippet = translate_text(text_snippet, translator_en_ge, translator_en_ge_tokenizer)\n",
    "        results.append((idx, text_snippet, relevance_score))\n",
    "    \n",
    "    return results\n",
    "\n",
    "query = \"Was ist eine gesunde Ernährung?\"\n",
    "retrieved_docs = retrieve_documents(query, document_embeddings, documents, model, top_n=3, lang=\"de\")\n",
    "\n",
    "print(\"\\nRetrieved Documents for Query:\", query)\n",
    "for idx, doc, score in retrieved_docs:\n",
    "    print(f\"Document Index: {idx}\")\n",
    "    print(f\"Document Snippet: {doc}\\nRelevance Score: {score:.4f}\\n\")"
   ]
  },
  {
   "cell_type": "markdown",
   "metadata": {},
   "source": [
    "### Evaluation\n",
    "\n",
    "##### Precision is calculated as the proportion of relevant documents among the retrieved documents.\n",
    "##### Recall is calculated as the proportion of relevant documents that were successfully retrieved."
   ]
  },
  {
   "cell_type": "code",
   "execution_count": 20,
   "metadata": {},
   "outputs": [
    {
     "name": "stdout",
     "output_type": "stream",
     "text": [
      "Average Precision: 1.0000\n",
      "Average Recall: 1.0000\n"
     ]
    }
   ],
   "source": [
    "# Define Evaluation Metrics (Precision, Recall)\n",
    "def evaluate_retrieval(queries, relevant_docs, document_embeddings, documents, model, top_n=1, lang=\"en\"):\n",
    "    precision_scores = []\n",
    "    recall_scores = []\n",
    "\n",
    "    for i, query in enumerate(queries):\n",
    "        # Retrieve documents based on query\n",
    "        retrieved_docs = retrieve_documents(query, document_embeddings, documents, model, top_n=top_n, lang=lang)\n",
    "        retrieved_indices = [doc[0] for doc in retrieved_docs] \n",
    "        relevant_indices = relevant_docs[i]\n",
    "\n",
    "        # Calculate Precision and Recall\n",
    "        true_positives = len(set(retrieved_indices) & set(relevant_indices))\n",
    "        precision = true_positives / len(retrieved_indices) if retrieved_indices else 0\n",
    "        recall = true_positives / len(relevant_indices) if relevant_indices else 0\n",
    "\n",
    "        precision_scores.append(precision)\n",
    "        recall_scores.append(recall)\n",
    "\n",
    "    # Average precision and recall over all queries\n",
    "    avg_precision = np.mean(precision_scores)\n",
    "    avg_recall = np.mean(recall_scores)\n",
    "    \n",
    "    return avg_precision, avg_recall\n",
    "\n",
    "# Example usage for evaluation\n",
    "queries = [\n",
    "    \"What are the recommended fiscal policies to promote healthy diets?\", \n",
    "    \"How do subsidies influence the consumption of healthy foods?\",\n",
    "    \"What are the key considerations for implementing fiscal policies to promote healthy diets?\",\n",
    "    \"What are the research gaps identified in fiscal policies for healthy diets?\",\n",
    "    \"What are the WHO's recommendations for HIV self-testing (HIVST)?\",\n",
    "    \"How does network-based testing help in HIV diagnosis?\",\n",
    "    \"What are the quality assurance measures for HIV testing services?\",\n",
    "    \"What are the strategic considerations for retesting individuals for HIV?\",\n",
    "    \"Among women in the second or third trimester of pregnancy (P), does routine antibiotic prophylaxis (I), compared with no antibiotic prophylaxis (C), prevent infectious morbidities and improve outcomes (O)?\",\n",
    "    \"What are the key considerations for maternal peripartum infection prevention?\",\n",
    "]\n",
    "\n",
    "relevant_docs = [\n",
    "    [0],  # Relevant to \"healthy_diet.pdf\"\n",
    "    [0],\n",
    "    [0],\n",
    "    [0],\n",
    "    [1],  # Relevant to \"hiv_testing.pdf\"\n",
    "    [1],\n",
    "    [1],\n",
    "    [1],\n",
    "    [2],  # Relevant to \"maternal_peripartum_infection.pdf\"\n",
    "    [2],\n",
    "]\n",
    "\n",
    "# Run Evaluation for German Queries\n",
    "avg_precision, avg_recall = evaluate_retrieval(queries, relevant_docs, document_embeddings, documents, model, top_n=1, lang=\"de\")\n",
    "print(f\"Average Precision: {avg_precision:.4f}\")\n",
    "print(f\"Average Recall: {avg_recall:.4f}\")\n",
    "\n"
   ]
  },
  {
   "cell_type": "markdown",
   "metadata": {},
   "source": [
    "### Improvements\n",
    "\n",
    "1. Fine tune the model using labeled dataset while freezing some layers of the transformer to retain the pre-trained knowledge\n",
    "2. For scalable retrieval use a vector database (FAISS)\n",
    "3. Converting into a RAG system including LLM to handle follow up queries"
   ]
  }
 ],
 "metadata": {
  "kernelspec": {
   "display_name": ".venv",
   "language": "python",
   "name": "python3"
  },
  "language_info": {
   "codemirror_mode": {
    "name": "ipython",
    "version": 3
   },
   "file_extension": ".py",
   "mimetype": "text/x-python",
   "name": "python",
   "nbconvert_exporter": "python",
   "pygments_lexer": "ipython3",
   "version": "3.12.4"
  }
 },
 "nbformat": 4,
 "nbformat_minor": 2
}
